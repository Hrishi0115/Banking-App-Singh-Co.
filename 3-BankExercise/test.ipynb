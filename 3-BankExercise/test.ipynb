{
 "cells": [
  {
   "cell_type": "code",
   "execution_count": 2,
   "metadata": {},
   "outputs": [],
   "source": [
    "import json\n",
    "with open('bank_account.json', 'r') as f:\n",
    "    accounts_data = json.load(f)\n",
    "t = accounts_data.get('Peter Pan')"
   ]
  },
  {
   "cell_type": "code",
   "execution_count": 10,
   "metadata": {},
   "outputs": [
    {
     "name": "stdout",
     "output_type": "stream",
     "text": [
      "main_account -- {'pot_id': 'main', 'balance': 1400, 'transactions': [{'amount': -50, 'id': 'tx_7', 'note': 'pot_1'}, {'amount': -40, 'id': 'tx_6', 'note': 'groceries'}, {'amount': -10, 'id': 'tx_5', 'note': 'eating_out'}, {'amount': -400, 'id': 'tx_4', 'note': 'rent'}, {'amount': -50, 'id': 'tx_3', 'note': 'pot_2'}, {'amount': -50, 'id': 'tx_2', 'note': 'pot_1'}, {'amount': 2000, 'id': 'tx_1', 'note': 'salary'}]}\n",
      "rainy_day_pot -- {'pot_id': 'pot_1', 'balance': 100, 'transactions': [{'amount': 50, 'id': 'tx_2', 'note': 'eating_out'}, {'amount': 50, 'id': 'tx_1', 'note': 'savings'}]}\n",
      "holiday -- {'pot_id': 'pot_2', 'balance': 50, 'transactions': [{'amount': 50, 'id': 'tx_1', 'note': 'initial deposit'}]}\n"
     ]
    }
   ],
   "source": [
    "for k, v in t.items():\n",
    "    try:\n",
    "        if 'pot_id' in v.keys():\n",
    "            print(k,'--',v)\n",
    "            \n",
    "    except:\n",
    "        pass"
   ]
  },
  {
   "cell_type": "code",
   "execution_count": 11,
   "metadata": {},
   "outputs": [
    {
     "data": {
      "text/plain": [
       "{'main_account': 'main', 'rainy_day_pot': 'pot_1', 'holiday': 'pot_2'}"
      ]
     },
     "execution_count": 11,
     "metadata": {},
     "output_type": "execute_result"
    }
   ],
   "source": [
    "dict_of_pots = {}\n",
    "for key, value in t.items():\n",
    "    if type(value) == dict and 'pot_id' in value.keys():\n",
    "        dict_of_pots[key] = value['pot_id']\n",
    "    \n",
    "dict_of_pots"
   ]
  },
  {
   "cell_type": "code",
   "execution_count": 10,
   "metadata": {},
   "outputs": [
    {
     "data": {
      "text/plain": [
       "{'tx_7': {'amount': -50, 'note': 'pot_1'},\n",
       " 'tx_6': {'amount': -40, 'note': 'groceries'},\n",
       " 'tx_5': {'amount': -10, 'note': 'eating_out'},\n",
       " 'tx_4': {'amount': -400, 'note': 'rent'},\n",
       " 'tx_3': {'amount': -50, 'note': 'pot_2'},\n",
       " 'tx_2': {'amount': -50, 'note': 'pot_1'},\n",
       " 'tx_1': {'amount': 2000, 'note': 'salary'}}"
      ]
     },
     "execution_count": 10,
     "metadata": {},
     "output_type": "execute_result"
    }
   ],
   "source": [
    "dict_of_transactions = {}\n",
    "# main account logic \n",
    "transactions = t['main_account']['transactions']\n",
    "for transaction in transactions:\n",
    "    dict_of_transactions[transaction['id']] = {'amount': transaction['amount'], 'note': transaction['note']}\n",
    "\n",
    "dict_of_transactions"
   ]
  },
  {
   "cell_type": "code",
   "execution_count": 1,
   "metadata": {},
   "outputs": [
    {
     "name": "stdout",
     "output_type": "stream",
     "text": [
      "e3b0c44298fc1c149afbf4c8996fb92427ae41e4649b934ca495991b7852b855\n"
     ]
    }
   ],
   "source": [
    "import hashlib\n",
    "def hash_password(password):\n",
    "    return hashlib.sha256(password.encode('utf-8')).hexdigest()\n",
    "print(hash_password(''))"
   ]
  },
  {
   "cell_type": "code",
   "execution_count": 8,
   "metadata": {},
   "outputs": [
    {
     "data": {
      "text/plain": [
       "{'account_id': 'ac_1',\n",
       " 'username': 'Peter0115',\n",
       " 'password': 'Pan123',\n",
       " 'main_account': {'pot_id': 'main',\n",
       "  'balance': 1400,\n",
       "  'transactions': [{'amount': -50, 'id': 'tx_7', 'note': 'pot_1'},\n",
       "   {'amount': -40, 'id': 'tx_6', 'note': 'groceries'},\n",
       "   {'amount': -10, 'id': 'tx_5', 'note': 'eating_out'},\n",
       "   {'amount': -400, 'id': 'tx_4', 'note': 'rent'},\n",
       "   {'amount': -50, 'id': 'tx_3', 'note': 'pot_2'},\n",
       "   {'amount': -50, 'id': 'tx_2', 'note': 'pot_1'},\n",
       "   {'amount': 2000, 'id': 'tx_1', 'note': 'salary'}]},\n",
       " 'rainy_day_pot': {'pot_id': 'pot_1',\n",
       "  'balance': 100,\n",
       "  'transactions': [{'amount': 50, 'id': 'tx_2', 'note': 'eating_out'},\n",
       "   {'amount': 50, 'id': 'tx_1', 'note': 'savings'}]},\n",
       " 'holiday': {'pot_id': 'pot_2',\n",
       "  'balance': 50,\n",
       "  'transactions': [{'amount': 50, 'id': 'tx_1', 'note': 'initial deposit'}]}}"
      ]
     },
     "execution_count": 8,
     "metadata": {},
     "output_type": "execute_result"
    }
   ],
   "source": [
    "import json\n",
    "username = \"Peter Pan\"\n",
    "with open('bank_account.json') as f:\n",
    "    user_data = json.load(f)\n",
    "\n",
    "user = user_data.get(username)\n",
    "user"
   ]
  },
  {
   "cell_type": "code",
   "execution_count": 12,
   "metadata": {},
   "outputs": [
    {
     "data": {
      "text/plain": [
       "{'username': 'peterpan',\n",
       " 'hashed_password': 'hashed_password_here',\n",
       " 'account_id': 'ac_1'}"
      ]
     },
     "execution_count": 12,
     "metadata": {},
     "output_type": "execute_result"
    }
   ],
   "source": [
    "with open('accounts.json') as f:\n",
    "    users = json.load(f)['users']\n",
    "\n",
    "user = next((u for u in users if u['username'] == 'peterpan'), None)\n",
    "user"
   ]
  },
  {
   "cell_type": "code",
   "execution_count": null,
   "metadata": {},
   "outputs": [],
   "source": [
    "@router.post(\"/accounts/\", response_model=UserAccount, status_code=status.HTTP_201_CREATED)\n",
    "async def add_account(account: UserAccount):\n",
    "    # Load existing data\n",
    "    try:\n",
    "        with open('accounts.json', 'r') as file:\n",
    "            data = json.load(file)\n",
    "    except FileNotFoundError:\n",
    "        raise HTTPException(status_code=404, detail=\"Database not found\")\n",
    "\n",
    "    # Check if the user already exists\n",
    "    if account.username in [user['username'] for user in data['users']]:\n",
    "        raise HTTPException(status_code=400, detail=\"Username already exists\")\n",
    "\n",
    "    # Append new account data\n",
    "    data['users'].append(account.dict())\n",
    "    data['accounts'][account.account_id] = account.dict(exclude={\"hashed_password\", \"email\", \"full_name\", \"username\"})\n",
    "\n",
    "    # Save updated data back to file\n",
    "    with open('accounts.json', 'w') as file:\n",
    "        json.dump(data, file, indent=4)\n",
    "\n",
    "    return account"
   ]
  },
  {
   "cell_type": "code",
   "execution_count": null,
   "metadata": {},
   "outputs": [],
   "source": [
    "from pydantic import BaseModel\n",
    "class UserAccount(BaseModel):\n",
    "    username: str\n",
    "    password: str\n",
    "    email: str\n",
    "    full_name: str\n",
    "    account_id: str\n",
    "\n"
   ]
  },
  {
   "cell_type": "code",
   "execution_count": 10,
   "metadata": {},
   "outputs": [
    {
     "data": {
      "text/plain": [
       "{'users': [{'username': 'peterpan',\n",
       "   'hashed_password': '81af3730792be7a9fdd0297e89e5c1483cf6aa6280934c2cb1d9ce85d9586564',\n",
       "   'email': 'peterpan@gmail.com',\n",
       "   'full_name': 'Peter Pan',\n",
       "   'account_id': 'ac_1'},\n",
       "  {1: 3}],\n",
       " 'accounts': {'ac_1': {'main_account': {'pot_id': 'main',\n",
       "    'balance': 1400,\n",
       "    'transactions': [{'amount': -50, 'id': 'tx_7', 'note': 'pot_1'},\n",
       "     {'amount': -40, 'id': 'tx_6', 'note': 'groceries'},\n",
       "     {'amount': -10, 'id': 'tx_5', 'note': 'eating_out'},\n",
       "     {'amount': -400, 'id': 'tx_4', 'note': 'rent'},\n",
       "     {'amount': -50, 'id': 'tx_3', 'note': 'pot_2'},\n",
       "     {'amount': -50, 'id': 'tx_2', 'note': 'pot_1'},\n",
       "     {'amount': 2000, 'id': 'tx_1', 'note': 'salary'}]},\n",
       "   'rainy_day_pot': {'pot_id': 'pot_1',\n",
       "    'balance': 100,\n",
       "    'transactions': [{'amount': 50, 'id': 'tx_2', 'note': 'eating_out'},\n",
       "     {'amount': 50, 'id': 'tx_1', 'note': 'savings'}]},\n",
       "   'holiday': {'pot_id': 'pot_2',\n",
       "    'balance': 50,\n",
       "    'transactions': [{'amount': 50,\n",
       "      'id': 'tx_1',\n",
       "      'note': 'initial deposit'}]}}}}"
      ]
     },
     "execution_count": 10,
     "metadata": {},
     "output_type": "execute_result"
    }
   ],
   "source": [
    "import json\n",
    "def load_accounts():\n",
    "    with open('accounts.json', 'r') as f:\n",
    "        accounts = json.load(f)\n",
    "    return accounts\n",
    "accounts = load_accounts()\n",
    "\n",
    "accounts['users'].append({1:3})\n",
    "\n",
    "accounts\n"
   ]
  }
 ],
 "metadata": {
  "kernelspec": {
   "display_name": "venv_ds",
   "language": "python",
   "name": "python3"
  },
  "language_info": {
   "codemirror_mode": {
    "name": "ipython",
    "version": 3
   },
   "file_extension": ".py",
   "mimetype": "text/x-python",
   "name": "python",
   "nbconvert_exporter": "python",
   "pygments_lexer": "ipython3",
   "version": "3.11.8"
  }
 },
 "nbformat": 4,
 "nbformat_minor": 2
}
