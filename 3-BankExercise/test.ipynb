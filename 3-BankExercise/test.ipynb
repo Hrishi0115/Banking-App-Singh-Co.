{
 "cells": [
  {
   "cell_type": "code",
   "execution_count": 2,
   "metadata": {},
   "outputs": [],
   "source": [
    "import json\n",
    "with open('bank_account.json', 'r') as f:\n",
    "    accounts_data = json.load(f)\n",
    "t = accounts_data.get('Peter Pan')"
   ]
  },
  {
   "cell_type": "code",
   "execution_count": 10,
   "metadata": {},
   "outputs": [
    {
     "name": "stdout",
     "output_type": "stream",
     "text": [
      "main_account -- {'pot_id': 'main', 'balance': 1400, 'transactions': [{'amount': -50, 'id': 'tx_7', 'note': 'pot_1'}, {'amount': -40, 'id': 'tx_6', 'note': 'groceries'}, {'amount': -10, 'id': 'tx_5', 'note': 'eating_out'}, {'amount': -400, 'id': 'tx_4', 'note': 'rent'}, {'amount': -50, 'id': 'tx_3', 'note': 'pot_2'}, {'amount': -50, 'id': 'tx_2', 'note': 'pot_1'}, {'amount': 2000, 'id': 'tx_1', 'note': 'salary'}]}\n",
      "rainy_day_pot -- {'pot_id': 'pot_1', 'balance': 100, 'transactions': [{'amount': 50, 'id': 'tx_2', 'note': 'eating_out'}, {'amount': 50, 'id': 'tx_1', 'note': 'savings'}]}\n",
      "holiday -- {'pot_id': 'pot_2', 'balance': 50, 'transactions': [{'amount': 50, 'id': 'tx_1', 'note': 'initial deposit'}]}\n"
     ]
    }
   ],
   "source": [
    "for k, v in t.items():\n",
    "    try:\n",
    "        if 'pot_id' in v.keys():\n",
    "            print(k,'--',v)\n",
    "            \n",
    "    except:\n",
    "        pass"
   ]
  },
  {
   "cell_type": "code",
   "execution_count": 11,
   "metadata": {},
   "outputs": [
    {
     "data": {
      "text/plain": [
       "{'main_account': 'main', 'rainy_day_pot': 'pot_1', 'holiday': 'pot_2'}"
      ]
     },
     "execution_count": 11,
     "metadata": {},
     "output_type": "execute_result"
    }
   ],
   "source": [
    "dict_of_pots = {}\n",
    "for key, value in t.items():\n",
    "    if type(value) == dict and 'pot_id' in value.keys():\n",
    "        dict_of_pots[key] = value['pot_id']\n",
    "    \n",
    "dict_of_pots"
   ]
  },
  {
   "cell_type": "code",
   "execution_count": 10,
   "metadata": {},
   "outputs": [
    {
     "data": {
      "text/plain": [
       "{'tx_7': {'amount': -50, 'note': 'pot_1'},\n",
       " 'tx_6': {'amount': -40, 'note': 'groceries'},\n",
       " 'tx_5': {'amount': -10, 'note': 'eating_out'},\n",
       " 'tx_4': {'amount': -400, 'note': 'rent'},\n",
       " 'tx_3': {'amount': -50, 'note': 'pot_2'},\n",
       " 'tx_2': {'amount': -50, 'note': 'pot_1'},\n",
       " 'tx_1': {'amount': 2000, 'note': 'salary'}}"
      ]
     },
     "execution_count": 10,
     "metadata": {},
     "output_type": "execute_result"
    }
   ],
   "source": [
    "dict_of_transactions = {}\n",
    "# main account logic \n",
    "transactions = t['main_account']['transactions']\n",
    "for transaction in transactions:\n",
    "    dict_of_transactions[transaction['id']] = {'amount': transaction['amount'], 'note': transaction['note']}\n",
    "\n",
    "dict_of_transactions"
   ]
  },
  {
   "cell_type": "code",
   "execution_count": null,
   "metadata": {},
   "outputs": [],
   "source": []
  }
 ],
 "metadata": {
  "kernelspec": {
   "display_name": "venv_ds",
   "language": "python",
   "name": "python3"
  },
  "language_info": {
   "codemirror_mode": {
    "name": "ipython",
    "version": 3
   },
   "file_extension": ".py",
   "mimetype": "text/x-python",
   "name": "python",
   "nbconvert_exporter": "python",
   "pygments_lexer": "ipython3",
   "version": "3.11.8"
  }
 },
 "nbformat": 4,
 "nbformat_minor": 2
}
