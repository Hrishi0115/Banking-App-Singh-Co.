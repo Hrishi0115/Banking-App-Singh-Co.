{
 "cells": [
  {
   "cell_type": "code",
   "execution_count": 3,
   "metadata": {},
   "outputs": [
    {
     "name": "stdout",
     "output_type": "stream",
     "text": [
      "{'account_id': 'ac_1', 'main_account': {'pot_id': 'main', 'balance': 1400, 'transactions': [{'amount': -50, 'id': 'tx_7', 'note': 'pot_1'}, {'amount': -40, 'id': 'tx_6', 'note': 'groceries'}, {'amount': -10, 'id': 'tx_5', 'note': 'eating_out'}, {'amount': -400, 'id': 'tx_4', 'note': 'rent'}, {'amount': -50, 'id': 'tx_3', 'note': 'pot_2'}, {'amount': -50, 'id': 'tx_2', 'note': 'pot_1'}, {'amount': 2000, 'id': 'tx_1', 'note': 'salary'}]}, 'rainy_day_pot': {'pot_id': 'pot_1', 'balance': 100, 'transactions': [{'amount': 50, 'id': 'tx_2', 'note': 'eating_out'}, {'amount': 50, 'id': 'tx_1', 'note': 'savings'}]}, 'holiday': {'pot_id': 'pot_2', 'balance': 50, 'transactions': [{'amount': 50, 'id': 'tx_1', 'note': 'initial deposit'}]}}\n"
     ]
    }
   ],
   "source": [
    "import json\n",
    "with open('bank_account.json', 'r') as f:\n",
    "    accounts_data = json.load(f)\n",
    "print(accounts_data.get('Peter Pan'))"
   ]
  }
 ],
 "metadata": {
  "kernelspec": {
   "display_name": "venv_ds",
   "language": "python",
   "name": "python3"
  },
  "language_info": {
   "codemirror_mode": {
    "name": "ipython",
    "version": 3
   },
   "file_extension": ".py",
   "mimetype": "text/x-python",
   "name": "python",
   "nbconvert_exporter": "python",
   "pygments_lexer": "ipython3",
   "version": "3.11.8"
  }
 },
 "nbformat": 4,
 "nbformat_minor": 2
}
